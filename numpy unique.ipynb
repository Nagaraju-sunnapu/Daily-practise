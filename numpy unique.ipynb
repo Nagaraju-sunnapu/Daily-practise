{
 "cells": [
  {
   "cell_type": "markdown",
   "id": "36aeef9a-48b5-4857-a597-28a9092a6c40",
   "metadata": {},
   "source": [
    "# numpy unique values"
   ]
  },
  {
   "cell_type": "code",
   "execution_count": 3,
   "id": "0149c6a9-0728-424c-9e26-9197bb737e2b",
   "metadata": {},
   "outputs": [],
   "source": [
    "import numpy as np"
   ]
  },
  {
   "cell_type": "code",
   "execution_count": 5,
   "id": "0daf79ff-334b-48c4-96b7-f93f953b10b9",
   "metadata": {},
   "outputs": [],
   "source": [
    "# syntax:nuumpy.unique(ndarray,return_index=False,return_counts=False,axis=None)"
   ]
  },
  {
   "cell_type": "code",
   "execution_count": 7,
   "id": "2f48107a-e53b-4826-9308-898be20f1b5a",
   "metadata": {},
   "outputs": [
    {
     "name": "stdout",
     "output_type": "stream",
     "text": [
      "[ 1 10 11 12 13 18 19 32]\n"
     ]
    }
   ],
   "source": [
    "arr=np.array([10,11,12,13,11,1,18,12,13,19,32,10])\n",
    "unique=np.unique(arr)\n",
    "print(unique)"
   ]
  },
  {
   "cell_type": "code",
   "execution_count": 9,
   "id": "e51de444-d8d3-4586-b12d-8e2c79b46002",
   "metadata": {},
   "outputs": [
    {
     "name": "stdout",
     "output_type": "stream",
     "text": [
      "[ 1 10 11 12 13 18 19 32]\n",
      "[ 5  0  1  2  3  6  9 10]\n"
     ]
    }
   ],
   "source": [
    "arr=np.array([10,11,12,13,11,1,18,12,13,19,32,10])\n",
    "unique,index=np.unique(arr,return_index=True)\n",
    "print(unique)\n",
    "print(index)"
   ]
  },
  {
   "cell_type": "code",
   "execution_count": 11,
   "id": "7e55c029-136d-41b1-8983-18396e5205bf",
   "metadata": {},
   "outputs": [
    {
     "name": "stdout",
     "output_type": "stream",
     "text": [
      "[ 1 10 11 12 13 18 19 32]\n",
      "[ 5  0  1  2  3  6  9 10]\n"
     ]
    }
   ],
   "source": [
    "arr=np.array([10,11,12,13,11,1,18,12,13,19,32,10])\n",
    "unique=np.unique(arr,return_index=True)\n",
    "print(unique[0])\n",
    "print(unique[1])"
   ]
  },
  {
   "cell_type": "code",
   "execution_count": 17,
   "id": "c277408b-a041-4db5-ae8f-7848ccd573c0",
   "metadata": {},
   "outputs": [
    {
     "name": "stdout",
     "output_type": "stream",
     "text": [
      "values\tindex\n",
      "1\t5\n",
      "10\t0\n",
      "11\t1\n",
      "12\t2\n",
      "13\t3\n",
      "18\t6\n",
      "19\t9\n",
      "32\t10\n"
     ]
    }
   ],
   "source": [
    "# find the unique values and index values and zip them \n",
    "arr=np.array([10,11,12,13,11,1,18,12,13,19,32,10])\n",
    "unique,index=np.unique(arr,return_index=True)\n",
    "print(\"values\\tindex\")\n",
    "for uni,ind in zip(unique,index):\n",
    "    print(\"{}\\t{}\".format(uni,ind))"
   ]
  },
  {
   "cell_type": "code",
   "execution_count": 21,
   "id": "79649d26-d5cf-46cd-a55e-a24507fb6617",
   "metadata": {},
   "outputs": [
    {
     "name": "stdout",
     "output_type": "stream",
     "text": [
      "unique value:[ 1 10 11 12 13 18 19 32]\n",
      "index values:[ 5  0  1  2  3  6  9 10]\n",
      "values count:[1 2 2 2 2 1 1 1]\n"
     ]
    }
   ],
   "source": [
    "# finding the unique values and index and counts\n",
    "arr=np.array([10,11,12,13,11,1,18,12,13,19,32,10])\n",
    "uic=np.unique(arr,return_index=True,return_counts=True)\n",
    "print(\"unique value:{}\".format(uic[0]))\n",
    "print(\"index values:{}\".format(uic[1]))\n",
    "print(\"values count:{}\".format(uic[2]))"
   ]
  },
  {
   "cell_type": "markdown",
   "id": "c6370f20-6500-4324-b3b0-a7f20b8d53a8",
   "metadata": {},
   "source": [
    "# 2-d array"
   ]
  },
  {
   "cell_type": "code",
   "execution_count": 24,
   "id": "15b9fa5a-0101-4876-ba81-864b0e1add74",
   "metadata": {},
   "outputs": [
    {
     "name": "stdout",
     "output_type": "stream",
     "text": [
      "[[11 11 12 11]\n",
      " [13 11 12 11]\n",
      " [16 11 12 11]\n",
      " [11 11 12 11]]\n"
     ]
    }
   ],
   "source": [
    "arr=np.array([[11,11,12,11],[13,11,12,11],[16,11,12,11],[11,11,12,11]])\n",
    "print(arr)"
   ]
  },
  {
   "cell_type": "code",
   "execution_count": 32,
   "id": "9802e0de-8ed6-453d-8588-4de9356e955e",
   "metadata": {},
   "outputs": [
    {
     "name": "stdout",
     "output_type": "stream",
     "text": [
      "[11 12 13 16]\n",
      "[0 2 4 8]\n",
      "[10  4  1  1]\n"
     ]
    }
   ],
   "source": [
    "uni=np.unique(arr,return_index=True,return_counts=True)\n",
    "print(uni[0])\n",
    "print(uni[1])\n",
    "print(uni[2])"
   ]
  },
  {
   "cell_type": "code",
   "execution_count": 36,
   "id": "97c404cc-ed7f-49bd-a548-c9cbe0250f7f",
   "metadata": {},
   "outputs": [
    {
     "name": "stdout",
     "output_type": "stream",
     "text": [
      "unique values:[[11 11 12 11]\n",
      " [13 11 12 11]\n",
      " [16 11 12 11]]\n",
      "index values:[0 1 2]\n",
      "value counts:[2 1 1]\n"
     ]
    }
   ],
   "source": [
    "uni=np.unique(arr,return_index=True,return_counts=True,axis=0)\n",
    "print(\"unique values:{}\".format(uni[0]))\n",
    "print(\"index values:{}\".format(uni[1]))\n",
    "print(\"value counts:{}\".format(uni[2]))"
   ]
  },
  {
   "cell_type": "code",
   "execution_count": 40,
   "id": "eb062e5b-b296-455f-a2dc-1ef2b8804604",
   "metadata": {},
   "outputs": [
    {
     "name": "stdout",
     "output_type": "stream",
     "text": [
      "unique values/n:[[11 11 12]\n",
      " [11 13 12]\n",
      " [11 16 12]\n",
      " [11 11 12]]/n\n",
      "index values:[1 0 2]\n",
      "value counts:[2 1 1]\n"
     ]
    }
   ],
   "source": [
    "uni=np.unique(arr,return_index=True,return_counts=True,axis=1)\n",
    "print(\"unique values:{}/n\".format(uni[0]))\n",
    "print(\"index values:{}\".format(uni[1]))\n",
    "print(\"value counts:{}\".format(uni[2]))"
   ]
  },
  {
   "cell_type": "code",
   "execution_count": null,
   "id": "ec3bf02c-5a5c-41fc-928e-f2a28476e006",
   "metadata": {},
   "outputs": [],
   "source": []
  }
 ],
 "metadata": {
  "kernelspec": {
   "display_name": "Python 3 (ipykernel)",
   "language": "python",
   "name": "python3"
  },
  "language_info": {
   "codemirror_mode": {
    "name": "ipython",
    "version": 3
   },
   "file_extension": ".py",
   "mimetype": "text/x-python",
   "name": "python",
   "nbconvert_exporter": "python",
   "pygments_lexer": "ipython3",
   "version": "3.12.4"
  }
 },
 "nbformat": 4,
 "nbformat_minor": 5
}
