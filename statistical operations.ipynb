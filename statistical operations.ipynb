{
 "cells": [
  {
   "cell_type": "markdown",
   "id": "a9ba01d6-f5d7-4d7d-a738-657f01b721ef",
   "metadata": {},
   "source": [
    "# statistical operations"
   ]
  },
  {
   "cell_type": "code",
   "execution_count": 2,
   "id": "eb7a5d9d-9744-4073-8df4-3c49a0b0fc4f",
   "metadata": {},
   "outputs": [],
   "source": [
    "import numpy as np"
   ]
  },
  {
   "cell_type": "code",
   "execution_count": 4,
   "id": "6eb62568-f671-4c4b-8c3b-7c5a56fd0874",
   "metadata": {},
   "outputs": [],
   "source": [
    "# amax(),amin(),mean(),median(),var(),std() here the axis=0 is column,and axis=1 is row "
   ]
  },
  {
   "cell_type": "code",
   "execution_count": 6,
   "id": "39aa99df-9600-4bb3-9f78-58b1fbed7cef",
   "metadata": {},
   "outputs": [
    {
     "name": "stdout",
     "output_type": "stream",
     "text": [
      "82\n"
     ]
    }
   ],
   "source": [
    "arr=np.array([78,12,22,44,32,43,57,75,74,73,43,82])\n",
    "mele=np.amax(arr)\n",
    "print(mele)"
   ]
  },
  {
   "cell_type": "code",
   "execution_count": 8,
   "id": "a5d1c7cf-0bb8-4c39-838b-2c6434f4aeb4",
   "metadata": {},
   "outputs": [
    {
     "name": "stdout",
     "output_type": "stream",
     "text": [
      "12\n"
     ]
    }
   ],
   "source": [
    "arr=np.array([78,12,22,44,32,43,57,75,74,73,43,82])\n",
    "mele=np.amin(arr)\n",
    "print(mele)"
   ]
  },
  {
   "cell_type": "code",
   "execution_count": 18,
   "id": "596bbc07-3c96-4b7d-bcd9-77389fd8c7b4",
   "metadata": {},
   "outputs": [
    {
     "name": "stdout",
     "output_type": "stream",
     "text": [
      "[[78 12 22 44]\n",
      " [32 43 57 75]\n",
      " [74 73 43 82]\n",
      " [72 56 31 67]]\n",
      "[78 73 57 82]\n"
     ]
    }
   ],
   "source": [
    "arr=np.array([78,12,22,44,32,43,57,75,74,73,43,82,72,56,31,67]).reshape(4,4)\n",
    "print(arr)\n",
    "mele=np.amax(arr,axis=0)\n",
    "print(mele)"
   ]
  },
  {
   "cell_type": "code",
   "execution_count": 20,
   "id": "d42d36a2-c424-491a-a189-adc9e4c1ace5",
   "metadata": {},
   "outputs": [
    {
     "name": "stdout",
     "output_type": "stream",
     "text": [
      "[[78 12 22 44]\n",
      " [32 43 57 75]\n",
      " [74 73 43 82]\n",
      " [72 56 31 67]]\n",
      "[32 12 22 44]\n"
     ]
    }
   ],
   "source": [
    "arr=np.array([78,12,22,44,32,43,57,75,74,73,43,82,72,56,31,67]).reshape(4,4)\n",
    "print(arr)\n",
    "mele=np.amin(arr,axis=0)\n",
    "print(mele)"
   ]
  },
  {
   "cell_type": "code",
   "execution_count": 22,
   "id": "855a2cd1-98f3-4e96-85ba-bbb90381f2b9",
   "metadata": {},
   "outputs": [
    {
     "name": "stdout",
     "output_type": "stream",
     "text": [
      "[[78 12 22 44]\n",
      " [32 43 57 75]\n",
      " [74 73 43 82]\n",
      " [72 56 31 67]]\n",
      "[78 75 82 72]\n"
     ]
    }
   ],
   "source": [
    "arr=np.array([78,12,22,44,32,43,57,75,74,73,43,82,72,56,31,67]).reshape(4,4)\n",
    "print(arr)\n",
    "mele=np.amax(arr,axis=1)\n",
    "print(mele)"
   ]
  },
  {
   "cell_type": "code",
   "execution_count": 24,
   "id": "6d5ac46f-f7c5-45fe-bdf1-2fc9f667930d",
   "metadata": {},
   "outputs": [
    {
     "name": "stdout",
     "output_type": "stream",
     "text": [
      "[[78 12 22 44]\n",
      " [32 43 57 75]\n",
      " [74 73 43 82]\n",
      " [72 56 31 67]]\n",
      "[12 32 43 31]\n"
     ]
    }
   ],
   "source": [
    "arr=np.array([78,12,22,44,32,43,57,75,74,73,43,82,72,56,31,67]).reshape(4,4)\n",
    "print(arr)\n",
    "mele=np.amin(arr,axis=1)\n",
    "print(mele)"
   ]
  },
  {
   "cell_type": "code",
   "execution_count": 26,
   "id": "21c316e3-de93-4ff6-b834-db64426d341a",
   "metadata": {},
   "outputs": [
    {
     "data": {
      "text/plain": [
       "52.916666666666664"
      ]
     },
     "execution_count": 26,
     "metadata": {},
     "output_type": "execute_result"
    }
   ],
   "source": [
    "arr=np.array([78,12,22,44,32,43,57,75,74,73,43,82])\n",
    "np.mean(arr)"
   ]
  },
  {
   "cell_type": "code",
   "execution_count": 30,
   "id": "c93b5f58-f702-4446-b974-bbf08f965083",
   "metadata": {},
   "outputs": [
    {
     "data": {
      "text/plain": [
       "50.5"
      ]
     },
     "execution_count": 30,
     "metadata": {},
     "output_type": "execute_result"
    }
   ],
   "source": [
    "arr=np.array([78,12,22,44,32,43,57,75,74,73,43,82])\n",
    "np.median(arr)"
   ]
  },
  {
   "cell_type": "code",
   "execution_count": 32,
   "id": "b60126df-52b2-44ea-8704-570a370c68a7",
   "metadata": {},
   "outputs": [
    {
     "data": {
      "text/plain": [
       "514.2430555555555"
      ]
     },
     "execution_count": 32,
     "metadata": {},
     "output_type": "execute_result"
    }
   ],
   "source": [
    "np.var(arr)"
   ]
  },
  {
   "cell_type": "code",
   "execution_count": 34,
   "id": "b6334245-6613-4500-8928-e31b07d81afd",
   "metadata": {},
   "outputs": [
    {
     "data": {
      "text/plain": [
       "22.676927824455312"
      ]
     },
     "execution_count": 34,
     "metadata": {},
     "output_type": "execute_result"
    }
   ],
   "source": [
    "np.std(arr)"
   ]
  },
  {
   "cell_type": "code",
   "execution_count": 36,
   "id": "1cf401a1-b396-4d6e-b291-7b5467c919bb",
   "metadata": {},
   "outputs": [
    {
     "name": "stdout",
     "output_type": "stream",
     "text": [
      "[[78 12 22 44]\n",
      " [32 43 57 75]\n",
      " [74 73 43 82]\n",
      " [72 56 31 67]]\n"
     ]
    }
   ],
   "source": [
    "arr=np.array([78,12,22,44,32,43,57,75,74,73,43,82,72,56,31,67]).reshape(4,4)\n",
    "print(arr)"
   ]
  },
  {
   "cell_type": "code",
   "execution_count": 38,
   "id": "b07ade0c-000a-4381-8dbf-0bbb445f056b",
   "metadata": {},
   "outputs": [
    {
     "data": {
      "text/plain": [
       "53.8125"
      ]
     },
     "execution_count": 38,
     "metadata": {},
     "output_type": "execute_result"
    }
   ],
   "source": [
    "np.mean(arr)"
   ]
  },
  {
   "cell_type": "code",
   "execution_count": 40,
   "id": "3a171d4d-5d96-4f8d-9298-1f05b261bb2b",
   "metadata": {},
   "outputs": [
    {
     "data": {
      "text/plain": [
       "array([64.  , 46.  , 38.25, 67.  ])"
      ]
     },
     "execution_count": 40,
     "metadata": {},
     "output_type": "execute_result"
    }
   ],
   "source": [
    "np.mean(arr,axis=0)"
   ]
  },
  {
   "cell_type": "code",
   "execution_count": 42,
   "id": "b25cc185-de27-4dc4-8422-e066532376e7",
   "metadata": {},
   "outputs": [
    {
     "data": {
      "text/plain": [
       "array([39.  , 51.75, 68.  , 56.5 ])"
      ]
     },
     "execution_count": 42,
     "metadata": {},
     "output_type": "execute_result"
    }
   ],
   "source": [
    "np.mean(arr,axis=1)"
   ]
  },
  {
   "cell_type": "code",
   "execution_count": 44,
   "id": "bf9a0a92-a175-410f-9a0d-a318a6067075",
   "metadata": {},
   "outputs": [
    {
     "data": {
      "text/plain": [
       "array([73. , 49.5, 37. , 71. ])"
      ]
     },
     "execution_count": 44,
     "metadata": {},
     "output_type": "execute_result"
    }
   ],
   "source": [
    "np.median(arr,axis=0)"
   ]
  },
  {
   "cell_type": "code",
   "execution_count": 46,
   "id": "9c53cb36-f026-43c1-9663-3042a1a9378d",
   "metadata": {},
   "outputs": [
    {
     "data": {
      "text/plain": [
       "array([33. , 50. , 73.5, 61.5])"
      ]
     },
     "execution_count": 46,
     "metadata": {},
     "output_type": "execute_result"
    }
   ],
   "source": [
    "np.median(arr,axis=1)"
   ]
  },
  {
   "cell_type": "code",
   "execution_count": 48,
   "id": "f8bdeb02-4c87-4533-a5ca-32dd9d496476",
   "metadata": {},
   "outputs": [
    {
     "data": {
      "text/plain": [
       "array([346.    , 498.5   , 172.6875, 204.5   ])"
      ]
     },
     "execution_count": 48,
     "metadata": {},
     "output_type": "execute_result"
    }
   ],
   "source": [
    "np.var(arr,axis=0)"
   ]
  },
  {
   "cell_type": "code",
   "execution_count": 50,
   "id": "a936c18a-64e2-42d4-842b-0f6b7547a0b1",
   "metadata": {},
   "outputs": [
    {
     "data": {
      "text/plain": [
       "array([641.    , 258.6875, 220.5   , 250.25  ])"
      ]
     },
     "execution_count": 50,
     "metadata": {},
     "output_type": "execute_result"
    }
   ],
   "source": [
    "np.var(arr,axis=1)"
   ]
  },
  {
   "cell_type": "code",
   "execution_count": 52,
   "id": "9a4ec5d1-e924-4960-9f68-9c52466adaca",
   "metadata": {},
   "outputs": [
    {
     "data": {
      "text/plain": [
       "array([18.60107524, 22.32711356, 13.1410616 , 14.30034965])"
      ]
     },
     "execution_count": 52,
     "metadata": {},
     "output_type": "execute_result"
    }
   ],
   "source": [
    "np.std(arr,axis=0)"
   ]
  },
  {
   "cell_type": "code",
   "execution_count": 54,
   "id": "12849e00-04b0-43e4-9a1b-42b7b1735c2b",
   "metadata": {},
   "outputs": [
    {
     "data": {
      "text/plain": [
       "array([25.3179778 , 16.08376511, 14.8492424 , 15.81929202])"
      ]
     },
     "execution_count": 54,
     "metadata": {},
     "output_type": "execute_result"
    }
   ],
   "source": [
    "np.std(arr,axis=1)"
   ]
  },
  {
   "cell_type": "code",
   "execution_count": 58,
   "id": "3e9b5a56-7a55-4221-9a58-c00541d6f3d2",
   "metadata": {},
   "outputs": [],
   "source": [
    "import statistics as s"
   ]
  },
  {
   "cell_type": "code",
   "execution_count": 68,
   "id": "b9b654a0-d632-4ee0-ada8-24731dcb15ad",
   "metadata": {},
   "outputs": [
    {
     "data": {
      "text/plain": [
       "11"
      ]
     },
     "execution_count": 68,
     "metadata": {},
     "output_type": "execute_result"
    }
   ],
   "source": [
    "s.mode([11,23,24,56,10,10,11])"
   ]
  },
  {
   "cell_type": "code",
   "execution_count": 72,
   "id": "b5a518be-8d2c-4fb5-b138-6d78f5c17d80",
   "metadata": {},
   "outputs": [
    {
     "data": {
      "text/plain": [
       "[11, 10]"
      ]
     },
     "execution_count": 72,
     "metadata": {},
     "output_type": "execute_result"
    }
   ],
   "source": [
    "s.multimode([11,23,24,56,10,10,11])"
   ]
  },
  {
   "cell_type": "code",
   "execution_count": null,
   "id": "4a747ee4-7890-44eb-80d0-28cb83d403ed",
   "metadata": {},
   "outputs": [],
   "source": []
  }
 ],
 "metadata": {
  "kernelspec": {
   "display_name": "Python 3 (ipykernel)",
   "language": "python",
   "name": "python3"
  },
  "language_info": {
   "codemirror_mode": {
    "name": "ipython",
    "version": 3
   },
   "file_extension": ".py",
   "mimetype": "text/x-python",
   "name": "python",
   "nbconvert_exporter": "python",
   "pygments_lexer": "ipython3",
   "version": "3.12.4"
  }
 },
 "nbformat": 4,
 "nbformat_minor": 5
}
